{
 "cells": [
  {
   "cell_type": "code",
   "execution_count": 1,
   "metadata": {
    "collapsed": true
   },
   "outputs": [],
   "source": [
    "import os, sys, gc\n",
    "import pandas as pd\n",
    "import numpy as np\n",
    "import matplotlib.pyplot as plt\n",
    "\n",
    "%matplotlib inline"
   ]
  },
  {
   "cell_type": "code",
   "execution_count": 2,
   "metadata": {},
   "outputs": [
    {
     "name": "stderr",
     "output_type": "stream",
     "text": [
      "Using TensorFlow backend.\n"
     ]
    }
   ],
   "source": [
    "sys.path.append('/root/src')\n",
    "from model_conv_1d import load_data, build_convolution1D_model, loss\n",
    "file_path = '~/data/bitstampUSD_1-min_data_2012-01-01_to_2017-05-31.csv'"
   ]
  },
  {
   "cell_type": "code",
   "execution_count": 3,
   "metadata": {},
   "outputs": [
    {
     "name": "stdout",
     "output_type": "stream",
     "text": [
      "                             Close  Volume_(BTC)  BTC_balance  USD_balance  \\\n",
      "Timestamp                                                                    \n",
      "2017-05-30 23:56:00+00:00  2181.37      1.700166            0         1000   \n",
      "2017-05-30 23:57:00+00:00  2195.63      6.561029            0         1000   \n",
      "2017-05-30 23:58:00+00:00  2191.83     15.662847            0         1000   \n",
      "2017-05-30 23:59:00+00:00  2203.51     27.090309            0         1000   \n",
      "2017-05-31 00:00:00+00:00  2208.33      9.961835            0         1000   \n",
      "\n",
      "                           Portfolio_value  total_rewards  \n",
      "Timestamp                                                  \n",
      "2017-05-30 23:56:00+00:00                0              0  \n",
      "2017-05-30 23:57:00+00:00                0              0  \n",
      "2017-05-30 23:58:00+00:00                0              0  \n",
      "2017-05-30 23:59:00+00:00                0              0  \n",
      "2017-05-31 00:00:00+00:00                0              0  \n"
     ]
    }
   ],
   "source": [
    "# data prepration\n",
    "df = load_data(file_path)\n",
    "df = df.drop(['Open', 'High', 'Low', 'Volume_(Currency)', 'Weighted_Price'], axis=1)\n",
    "df['BTC_balance'] = 0\n",
    "df['USD_balance'] = 1000\n",
    "df['Portfolio_value'] = 0\n",
    "df['total_rewards'] = 0\n",
    "\n",
    "print (df.tail())"
   ]
  },
  {
   "cell_type": "code",
   "execution_count": 4,
   "metadata": {},
   "outputs": [
    {
     "name": "stdout",
     "output_type": "stream",
     "text": [
      "1000000 500000 150904\n"
     ]
    }
   ],
   "source": [
    "# create the training, validation and test datasets\n",
    "training_size = 1000000\n",
    "validation_size = 500000\n",
    "test_size = 150904\n",
    "train_df = df[:training_size]\n",
    "valid_df = df[training_size:training_size+validation_size]\n",
    "test_df = df[training_size+validation_size:]\n",
    "print(len(train_df), len(valid_df), len(test_df))"
   ]
  },
  {
   "cell_type": "code",
   "execution_count": 5,
   "metadata": {
    "collapsed": true
   },
   "outputs": [],
   "source": [
    "# model's hyperparameters\n",
    "window_size = 60\n",
    "nb_filter = 8\n",
    "filter_length = 5\n",
    "nb_input_series = 6\n",
    "nb_outputs = 2\n",
    "batch_size = 480\n",
    "epochs = 5"
   ]
  },
  {
   "cell_type": "code",
   "execution_count": 6,
   "metadata": {},
   "outputs": [
    {
     "name": "stdout",
     "output_type": "stream",
     "text": [
      "\n",
      "\n",
      "Model with input size (None, 60, 6), output size (None, 2), 8 conv filters of length 5\n",
      "_________________________________________________________________\n",
      "Layer (type)                 Output Shape              Param #   \n",
      "=================================================================\n",
      "conv1d_1 (Conv1D)            (None, 56, 8)             248       \n",
      "_________________________________________________________________\n",
      "max_pooling1d_1 (MaxPooling1 (None, 28, 8)             0         \n",
      "_________________________________________________________________\n",
      "conv1d_2 (Conv1D)            (None, 24, 8)             328       \n",
      "_________________________________________________________________\n",
      "max_pooling1d_2 (MaxPooling1 (None, 12, 8)             0         \n",
      "_________________________________________________________________\n",
      "flatten_1 (Flatten)          (None, 96)                0         \n",
      "_________________________________________________________________\n",
      "dense_1 (Dense)              (None, 2)                 194       \n",
      "=================================================================\n",
      "Total params: 770\n",
      "Trainable params: 770\n",
      "Non-trainable params: 0\n",
      "_________________________________________________________________\n"
     ]
    }
   ],
   "source": [
    "# build the model and print the summary of the model\n",
    "model = build_convolution1D_model(window_size=window_size, filter_length=filter_length, nb_input_series=nb_input_series, nb_outputs=nb_outputs, nb_filter=nb_filter)\n",
    "print('\\n\\nModel with input size {}, output size {}, {} conv filters of length {}'.format(model.input_shape, model.output_shape, nb_filter, filter_length))\n",
    "model.summary()"
   ]
  }
 ],
 "metadata": {
  "kernelspec": {
   "display_name": "Python 3",
   "language": "python",
   "name": "python3"
  },
  "language_info": {
   "codemirror_mode": {
    "name": "ipython",
    "version": 3
   },
   "file_extension": ".py",
   "mimetype": "text/x-python",
   "name": "python",
   "nbconvert_exporter": "python",
   "pygments_lexer": "ipython3",
   "version": "3.5.2"
  }
 },
 "nbformat": 4,
 "nbformat_minor": 2
}
