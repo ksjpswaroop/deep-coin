{
 "cells": [
  {
   "cell_type": "code",
   "execution_count": 1,
   "metadata": {},
   "outputs": [
    {
     "name": "stderr",
     "output_type": "stream",
     "text": [
      "Using TensorFlow backend.\n"
     ]
    }
   ],
   "source": [
    "import os\n",
    "import sys\n",
    "\n",
    "import seaborn\n",
    "import itertools\n",
    "import keras\n",
    "\n",
    "import pandas as pd\n",
    "import numpy as np\n",
    "import tensorflow as tf\n",
    "import matplotlib.pyplot as plt"
   ]
  },
  {
   "cell_type": "code",
   "execution_count": 2,
   "metadata": {},
   "outputs": [
    {
     "name": "stdout",
     "output_type": "stream",
     "text": [
      "total 68K\r\n",
      "drwx------ 14 root root 4.0K Jul 11 02:24 .\r\n",
      "drwxr-xr-x 55 root root 4.0K Jul  6 14:32 ..\r\n",
      "-rw-------  1 root root 7.3K Jul  6 18:51 .bash_history\r\n",
      "-rw-r--r--  1 root root 3.1K Oct 22  2015 .bashrc\r\n",
      "drwx------  5 root root 4.0K Jun 30 17:13 .cache\r\n",
      "drwxr-xr-x  3 root root 4.0K Jun 30 15:57 .config\r\n",
      "-rw-r--r--  1 root root   47 Jun 30 16:54 .gitconfig\r\n",
      "drwxr-xr-x  2 root root 4.0K Jun 30 16:50 .ipynb_checkpoints\r\n",
      "drwxr-xr-x  5 root root 4.0K Jun 30 15:42 .ipython\r\n",
      "drwxr-xr-x  2 root root 4.0K Jul  1 09:46 .jupyter\r\n",
      "drwxr-xr-x  2 root root 4.0K Jun 30 15:57 .keras\r\n",
      "drwx------  3 root root 4.0K Jun 30 05:50 .local\r\n",
      "drwxr-xr-x  2 root root 4.0K Jul  3 20:29 .nano\r\n",
      "-rw-r--r--  1 root root  148 Aug 17  2015 .profile\r\n",
      "drwxr-xr-x  3 root root 4.0K Jul 11 03:44 data\r\n",
      "drwxr-xr-x  5 root root 4.0K Jun 30 16:51 deep-coin\r\n"
     ]
    }
   ],
   "source": [
    "!ls -lha /root"
   ]
  },
  {
   "cell_type": "code",
   "execution_count": 3,
   "metadata": {},
   "outputs": [],
   "source": [
    "data_dir = '/root/data'\n",
    "btc_usd_hist_csv = os.path.join(data_dir, 'btc-usd-bvn-li-hist.csv')\n",
    "assert os.path.exists(btc_usd_hist_csv), \"The {} file does not exist\".format(btc_usd_hist_csv)"
   ]
  },
  {
   "cell_type": "code",
   "execution_count": 4,
   "metadata": {
    "scrolled": true
   },
   "outputs": [
    {
     "data": {
      "text/html": [
       "<div>\n",
       "<style>\n",
       "    .dataframe thead tr:only-child th {\n",
       "        text-align: right;\n",
       "    }\n",
       "\n",
       "    .dataframe thead th {\n",
       "        text-align: left;\n",
       "    }\n",
       "\n",
       "    .dataframe tbody tr th {\n",
       "        vertical-align: top;\n",
       "    }\n",
       "</style>\n",
       "<table border=\"1\" class=\"dataframe\">\n",
       "  <thead>\n",
       "    <tr style=\"text-align: right;\">\n",
       "      <th></th>\n",
       "      <th>Date</th>\n",
       "      <th>Open</th>\n",
       "      <th>High</th>\n",
       "      <th>Low</th>\n",
       "      <th>Close</th>\n",
       "      <th>Volume</th>\n",
       "      <th>Volume_USD</th>\n",
       "      <th>VWAP</th>\n",
       "      <th>TWAP</th>\n",
       "    </tr>\n",
       "  </thead>\n",
       "  <tbody>\n",
       "    <tr>\n",
       "      <th>0</th>\n",
       "      <td>2017-07-08</td>\n",
       "      <td>2495.949316</td>\n",
       "      <td>2552.081317</td>\n",
       "      <td>2465.342566</td>\n",
       "      <td>2550.409252</td>\n",
       "      <td>35144.174838</td>\n",
       "      <td>8.808445e+07</td>\n",
       "      <td>2508.250713</td>\n",
       "      <td>2511.134108</td>\n",
       "    </tr>\n",
       "    <tr>\n",
       "      <th>1</th>\n",
       "      <td>2017-07-07</td>\n",
       "      <td>2601.928393</td>\n",
       "      <td>2605.802566</td>\n",
       "      <td>2468.264028</td>\n",
       "      <td>2496.042295</td>\n",
       "      <td>62088.568865</td>\n",
       "      <td>1.567033e+08</td>\n",
       "      <td>2528.377321</td>\n",
       "      <td>2542.552255</td>\n",
       "    </tr>\n",
       "    <tr>\n",
       "      <th>2</th>\n",
       "      <td>2017-07-06</td>\n",
       "      <td>2610.355742</td>\n",
       "      <td>2613.994320</td>\n",
       "      <td>2574.861977</td>\n",
       "      <td>2601.829066</td>\n",
       "      <td>41087.404062</td>\n",
       "      <td>1.064584e+08</td>\n",
       "      <td>2593.659363</td>\n",
       "      <td>2595.547947</td>\n",
       "    </tr>\n",
       "    <tr>\n",
       "      <th>3</th>\n",
       "      <td>2017-07-05</td>\n",
       "      <td>2598.566114</td>\n",
       "      <td>2626.097712</td>\n",
       "      <td>2532.945394</td>\n",
       "      <td>2610.947179</td>\n",
       "      <td>63930.492436</td>\n",
       "      <td>1.647119e+08</td>\n",
       "      <td>2575.807887</td>\n",
       "      <td>2571.457152</td>\n",
       "    </tr>\n",
       "    <tr>\n",
       "      <th>4</th>\n",
       "      <td>2017-07-04</td>\n",
       "      <td>2543.986109</td>\n",
       "      <td>2633.409272</td>\n",
       "      <td>2543.986109</td>\n",
       "      <td>2599.123018</td>\n",
       "      <td>52024.918531</td>\n",
       "      <td>1.348385e+08</td>\n",
       "      <td>2593.923887</td>\n",
       "      <td>2594.774546</td>\n",
       "    </tr>\n",
       "  </tbody>\n",
       "</table>\n",
       "</div>"
      ],
      "text/plain": [
       "         Date         Open         High          Low        Close  \\\n",
       "0  2017-07-08  2495.949316  2552.081317  2465.342566  2550.409252   \n",
       "1  2017-07-07  2601.928393  2605.802566  2468.264028  2496.042295   \n",
       "2  2017-07-06  2610.355742  2613.994320  2574.861977  2601.829066   \n",
       "3  2017-07-05  2598.566114  2626.097712  2532.945394  2610.947179   \n",
       "4  2017-07-04  2543.986109  2633.409272  2543.986109  2599.123018   \n",
       "\n",
       "         Volume    Volume_USD         VWAP         TWAP  \n",
       "0  35144.174838  8.808445e+07  2508.250713  2511.134108  \n",
       "1  62088.568865  1.567033e+08  2528.377321  2542.552255  \n",
       "2  41087.404062  1.064584e+08  2593.659363  2595.547947  \n",
       "3  63930.492436  1.647119e+08  2575.807887  2571.457152  \n",
       "4  52024.918531  1.348385e+08  2593.923887  2594.774546  "
      ]
     },
     "execution_count": 4,
     "metadata": {},
     "output_type": "execute_result"
    }
   ],
   "source": [
    "btc_usd_hist_df = pd.read_csv(btc_usd_hist_csv)\n",
    "btc_usd_hist_df.head()"
   ]
  },
  {
   "cell_type": "code",
   "execution_count": 5,
   "metadata": {},
   "outputs": [
    {
     "data": {
      "text/html": [
       "<div>\n",
       "<style>\n",
       "    .dataframe thead tr:only-child th {\n",
       "        text-align: right;\n",
       "    }\n",
       "\n",
       "    .dataframe thead th {\n",
       "        text-align: left;\n",
       "    }\n",
       "\n",
       "    .dataframe tbody tr th {\n",
       "        vertical-align: top;\n",
       "    }\n",
       "</style>\n",
       "<table border=\"1\" class=\"dataframe\">\n",
       "  <thead>\n",
       "    <tr style=\"text-align: right;\">\n",
       "      <th></th>\n",
       "      <th>Open</th>\n",
       "      <th>High</th>\n",
       "      <th>Low</th>\n",
       "      <th>Close</th>\n",
       "      <th>Volume</th>\n",
       "    </tr>\n",
       "  </thead>\n",
       "  <tbody>\n",
       "    <tr>\n",
       "      <th>0</th>\n",
       "      <td>2495.949316</td>\n",
       "      <td>2552.081317</td>\n",
       "      <td>2465.342566</td>\n",
       "      <td>2550.409252</td>\n",
       "      <td>35144.174838</td>\n",
       "    </tr>\n",
       "    <tr>\n",
       "      <th>1</th>\n",
       "      <td>2601.928393</td>\n",
       "      <td>2605.802566</td>\n",
       "      <td>2468.264028</td>\n",
       "      <td>2496.042295</td>\n",
       "      <td>62088.568865</td>\n",
       "    </tr>\n",
       "    <tr>\n",
       "      <th>2</th>\n",
       "      <td>2610.355742</td>\n",
       "      <td>2613.994320</td>\n",
       "      <td>2574.861977</td>\n",
       "      <td>2601.829066</td>\n",
       "      <td>41087.404062</td>\n",
       "    </tr>\n",
       "    <tr>\n",
       "      <th>3</th>\n",
       "      <td>2598.566114</td>\n",
       "      <td>2626.097712</td>\n",
       "      <td>2532.945394</td>\n",
       "      <td>2610.947179</td>\n",
       "      <td>63930.492436</td>\n",
       "    </tr>\n",
       "    <tr>\n",
       "      <th>4</th>\n",
       "      <td>2543.986109</td>\n",
       "      <td>2633.409272</td>\n",
       "      <td>2543.986109</td>\n",
       "      <td>2599.123018</td>\n",
       "      <td>52024.918531</td>\n",
       "    </tr>\n",
       "  </tbody>\n",
       "</table>\n",
       "</div>"
      ],
      "text/plain": [
       "          Open         High          Low        Close        Volume\n",
       "0  2495.949316  2552.081317  2465.342566  2550.409252  35144.174838\n",
       "1  2601.928393  2605.802566  2468.264028  2496.042295  62088.568865\n",
       "2  2610.355742  2613.994320  2574.861977  2601.829066  41087.404062\n",
       "3  2598.566114  2626.097712  2532.945394  2610.947179  63930.492436\n",
       "4  2543.986109  2633.409272  2543.986109  2599.123018  52024.918531"
      ]
     },
     "execution_count": 5,
     "metadata": {},
     "output_type": "execute_result"
    }
   ],
   "source": [
    "df = btc_usd_hist_df.drop(btc_usd_hist_df.columns[[0, 6, 7, 8]], axis=1)\n",
    "df.head()"
   ]
  },
  {
   "cell_type": "code",
   "execution_count": 6,
   "metadata": {},
   "outputs": [
    {
     "name": "stderr",
     "output_type": "stream",
     "text": [
      "/usr/local/lib/python3.5/dist-packages/matplotlib/font_manager.py:1297: UserWarning: findfont: Font family ['sans-serif'] not found. Falling back to DejaVu Sans\n",
      "  (prop.get_family(), self.defaultFamily[fontext]))\n"
     ]
    },
    {
     "data": {
      "image/png": "[encoded data removed]",
      "text/plain": [
       "<matplotlib.figure.Figure at 0x7f07a6967208>"
      ]
     },
     "metadata": {},
     "output_type": "display_data"
    }
   ],
   "source": [
    "plt.plot((df.drop(df.columns[[0, 1, 2, 4]], axis=1)))\n",
    "plt.show()"
   ]
  },
  {
   "cell_type": "code",
   "execution_count": 7,
   "metadata": {},
   "outputs": [
    {
     "data": {
      "text/html": [
       "<div>\n",
       "<style>\n",
       "    .dataframe thead tr:only-child th {\n",
       "        text-align: right;\n",
       "    }\n",
       "\n",
       "    .dataframe thead th {\n",
       "        text-align: left;\n",
       "    }\n",
       "\n",
       "    .dataframe tbody tr th {\n",
       "        vertical-align: top;\n",
       "    }\n",
       "</style>\n",
       "<table border=\"1\" class=\"dataframe\">\n",
       "  <thead>\n",
       "    <tr style=\"text-align: right;\">\n",
       "      <th></th>\n",
       "      <th>Open</th>\n",
       "      <th>High</th>\n",
       "      <th>Low</th>\n",
       "      <th>Close</th>\n",
       "      <th>Volume</th>\n",
       "    </tr>\n",
       "  </thead>\n",
       "  <tbody>\n",
       "    <tr>\n",
       "      <th>2541</th>\n",
       "      <td>0.05941</td>\n",
       "      <td>0.08585</td>\n",
       "      <td>0.059410</td>\n",
       "      <td>0.085840</td>\n",
       "      <td>75.01</td>\n",
       "    </tr>\n",
       "    <tr>\n",
       "      <th>2540</th>\n",
       "      <td>0.09090</td>\n",
       "      <td>0.09307</td>\n",
       "      <td>0.078905</td>\n",
       "      <td>0.080800</td>\n",
       "      <td>574.00</td>\n",
       "    </tr>\n",
       "    <tr>\n",
       "      <th>2539</th>\n",
       "      <td>0.08181</td>\n",
       "      <td>0.08181</td>\n",
       "      <td>0.074260</td>\n",
       "      <td>0.074733</td>\n",
       "      <td>262.00</td>\n",
       "    </tr>\n",
       "    <tr>\n",
       "      <th>2538</th>\n",
       "      <td>0.07425</td>\n",
       "      <td>0.07921</td>\n",
       "      <td>0.066340</td>\n",
       "      <td>0.079210</td>\n",
       "      <td>575.00</td>\n",
       "    </tr>\n",
       "    <tr>\n",
       "      <th>2537</th>\n",
       "      <td>0.07921</td>\n",
       "      <td>0.08080</td>\n",
       "      <td>0.054460</td>\n",
       "      <td>0.054955</td>\n",
       "      <td>2160.00</td>\n",
       "    </tr>\n",
       "  </tbody>\n",
       "</table>\n",
       "</div>"
      ],
      "text/plain": [
       "         Open     High       Low     Close   Volume\n",
       "2541  0.05941  0.08585  0.059410  0.085840    75.01\n",
       "2540  0.09090  0.09307  0.078905  0.080800   574.00\n",
       "2539  0.08181  0.08181  0.074260  0.074733   262.00\n",
       "2538  0.07425  0.07921  0.066340  0.079210   575.00\n",
       "2537  0.07921  0.08080  0.054460  0.054955  2160.00"
      ]
     },
     "execution_count": 7,
     "metadata": {},
     "output_type": "execute_result"
    }
   ],
   "source": [
    "df = df.sort_index(axis=0 ,ascending=False)\n",
    "df.head()"
   ]
  },
  {
   "cell_type": "code",
   "execution_count": 8,
   "metadata": {},
   "outputs": [
    {
     "data": {
      "text/html": [
       "<div>\n",
       "<style>\n",
       "    .dataframe thead tr:only-child th {\n",
       "        text-align: right;\n",
       "    }\n",
       "\n",
       "    .dataframe thead th {\n",
       "        text-align: left;\n",
       "    }\n",
       "\n",
       "    .dataframe tbody tr th {\n",
       "        vertical-align: top;\n",
       "    }\n",
       "</style>\n",
       "<table border=\"1\" class=\"dataframe\">\n",
       "  <thead>\n",
       "    <tr style=\"text-align: right;\">\n",
       "      <th></th>\n",
       "      <th>Open</th>\n",
       "      <th>High</th>\n",
       "      <th>Low</th>\n",
       "      <th>Close</th>\n",
       "      <th>Volume</th>\n",
       "    </tr>\n",
       "  </thead>\n",
       "  <tbody>\n",
       "    <tr>\n",
       "      <th>0</th>\n",
       "      <td>0.05941</td>\n",
       "      <td>0.08585</td>\n",
       "      <td>0.059410</td>\n",
       "      <td>0.085840</td>\n",
       "      <td>75.01</td>\n",
       "    </tr>\n",
       "    <tr>\n",
       "      <th>1</th>\n",
       "      <td>0.09090</td>\n",
       "      <td>0.09307</td>\n",
       "      <td>0.078905</td>\n",
       "      <td>0.080800</td>\n",
       "      <td>574.00</td>\n",
       "    </tr>\n",
       "    <tr>\n",
       "      <th>2</th>\n",
       "      <td>0.08181</td>\n",
       "      <td>0.08181</td>\n",
       "      <td>0.074260</td>\n",
       "      <td>0.074733</td>\n",
       "      <td>262.00</td>\n",
       "    </tr>\n",
       "    <tr>\n",
       "      <th>3</th>\n",
       "      <td>0.07425</td>\n",
       "      <td>0.07921</td>\n",
       "      <td>0.066340</td>\n",
       "      <td>0.079210</td>\n",
       "      <td>575.00</td>\n",
       "    </tr>\n",
       "    <tr>\n",
       "      <th>4</th>\n",
       "      <td>0.07921</td>\n",
       "      <td>0.08080</td>\n",
       "      <td>0.054460</td>\n",
       "      <td>0.054955</td>\n",
       "      <td>2160.00</td>\n",
       "    </tr>\n",
       "  </tbody>\n",
       "</table>\n",
       "</div>"
      ],
      "text/plain": [
       "      Open     High       Low     Close   Volume\n",
       "0  0.05941  0.08585  0.059410  0.085840    75.01\n",
       "1  0.09090  0.09307  0.078905  0.080800   574.00\n",
       "2  0.08181  0.08181  0.074260  0.074733   262.00\n",
       "3  0.07425  0.07921  0.066340  0.079210   575.00\n",
       "4  0.07921  0.08080  0.054460  0.054955  2160.00"
      ]
     },
     "execution_count": 8,
     "metadata": {},
     "output_type": "execute_result"
    }
   ],
   "source": [
    "df = df.reset_index(drop=True)\n",
    "df.head()"
   ]
  },
  {
   "cell_type": "code",
   "execution_count": 9,
   "metadata": {},
   "outputs": [
    {
     "name": "stderr",
     "output_type": "stream",
     "text": [
      "/usr/local/lib/python3.5/dist-packages/matplotlib/font_manager.py:1297: UserWarning: findfont: Font family ['sans-serif'] not found. Falling back to DejaVu Sans\n",
      "  (prop.get_family(), self.defaultFamily[fontext]))\n"
     ]
    },
    {
     "data": {
      "image/png": "[encoded data removed]",
      "text/plain": [
       "<matplotlib.figure.Figure at 0x7f07a625ccf8>"
      ]
     },
     "metadata": {},
     "output_type": "display_data"
    }
   ],
   "source": [
    "plt.plot((df.drop(df.columns[[0, 1, 2, 4]], axis=1)))\n",
    "plt.show()"
   ]
  }
 ],
 "metadata": {
  "kernelspec": {
   "display_name": "Python 3",
   "language": "python",
   "name": "python3"
  },
  "language_info": {
   "codemirror_mode": {
    "name": "ipython",
    "version": 3
   },
   "file_extension": ".py",
   "mimetype": "text/x-python",
   "name": "python",
   "nbconvert_exporter": "python",
   "pygments_lexer": "ipython3",
   "version": "3.5.2"
  }
 },
 "nbformat": 4,
 "nbformat_minor": 2
}
