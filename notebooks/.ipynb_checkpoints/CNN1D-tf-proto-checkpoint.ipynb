{
 "cells": [
  {
   "cell_type": "code",
   "execution_count": 13,
   "metadata": {},
   "outputs": [
    {
     "name": "stderr",
     "output_type": "stream",
     "text": [
      "Using TensorFlow backend.\n"
     ]
    }
   ],
   "source": [
    "import os, sys, gc\n",
    "import pandas as pd\n",
    "import numpy as np\n",
    "import matplotlib.pyplot as plt\n",
    "from keras.layers import Conv1D, Dense, MaxPooling1D, Flatten\n",
    "from keras.models import Sequential\n",
    "\n",
    "%matplotlib inline"
   ]
  },
  {
   "cell_type": "code",
   "execution_count": 2,
   "metadata": {
    "collapsed": true
   },
   "outputs": [],
   "source": [
    "#sys.path.append('/root/src')\n",
    "#from model_conv_1d import load_data, build_convolution1D_model, get_loss\n",
    "file_path = '~/data/bitstampUSD_1-min_data_2012-01-01_to_2017-05-31.csv'"
   ]
  },
  {
   "cell_type": "code",
   "execution_count": 3,
   "metadata": {
    "collapsed": true
   },
   "outputs": [],
   "source": [
    "def load_data(file_path, drop_na=True, utc_time=False):\n",
    "    \"\"\"this function will load the csv data file into a panda dataframe and converts the date-time to utc standard if True and returns the df\"\"\"\n",
    "    df = pd.read_csv(file_path, parse_dates=True, keep_date_col=True, index_col=0, infer_datetime_format=True, error_bad_lines=False)\n",
    "    if drop_na == True: \n",
    "        df = df.dropna()\n",
    "    if utc_time == True:\n",
    "        df.index = pd.to_datetime(df.index, utc=True, unit='s')\n",
    "    return df"
   ]
  },
  {
   "cell_type": "code",
   "execution_count": 4,
   "metadata": {
    "collapsed": true
   },
   "outputs": [],
   "source": [
    "initial_bal = 1000\n",
    "window_size = 60\n",
    "num_steps = 1000000"
   ]
  },
  {
   "cell_type": "code",
   "execution_count": 5,
   "metadata": {},
   "outputs": [],
   "source": [
    "# data prepration\n",
    "df = load_data(file_path)\n",
    "df = df.drop(['Open', 'High', 'Low', 'Volume_(Currency)', 'Weighted_Price'], axis=1)"
   ]
  },
  {
   "cell_type": "code",
   "execution_count": 6,
   "metadata": {},
   "outputs": [
    {
     "name": "stdout",
     "output_type": "stream",
     "text": [
      "(1650904, 6)\n"
     ]
    },
    {
     "data": {
      "text/html": [
       "<div>\n",
       "<style>\n",
       "    .dataframe thead tr:only-child th {\n",
       "        text-align: right;\n",
       "    }\n",
       "\n",
       "    .dataframe thead th {\n",
       "        text-align: left;\n",
       "    }\n",
       "\n",
       "    .dataframe tbody tr th {\n",
       "        vertical-align: top;\n",
       "    }\n",
       "</style>\n",
       "<table border=\"1\" class=\"dataframe\">\n",
       "  <thead>\n",
       "    <tr style=\"text-align: right;\">\n",
       "      <th></th>\n",
       "      <th>Close</th>\n",
       "      <th>Volume_(BTC)</th>\n",
       "      <th>btc_bal</th>\n",
       "      <th>usd_bal</th>\n",
       "      <th>portfolio_bal</th>\n",
       "      <th>total_rewards</th>\n",
       "    </tr>\n",
       "    <tr>\n",
       "      <th>Timestamp</th>\n",
       "      <th></th>\n",
       "      <th></th>\n",
       "      <th></th>\n",
       "      <th></th>\n",
       "      <th></th>\n",
       "      <th></th>\n",
       "    </tr>\n",
       "  </thead>\n",
       "  <tbody>\n",
       "    <tr>\n",
       "      <th>1325317920</th>\n",
       "      <td>4.39</td>\n",
       "      <td>0.455581</td>\n",
       "      <td>0</td>\n",
       "      <td>1000</td>\n",
       "      <td>0</td>\n",
       "      <td>0</td>\n",
       "    </tr>\n",
       "    <tr>\n",
       "      <th>1325346600</th>\n",
       "      <td>4.39</td>\n",
       "      <td>48.000000</td>\n",
       "      <td>0</td>\n",
       "      <td>1000</td>\n",
       "      <td>0</td>\n",
       "      <td>0</td>\n",
       "    </tr>\n",
       "    <tr>\n",
       "      <th>1325350740</th>\n",
       "      <td>4.57</td>\n",
       "      <td>37.862297</td>\n",
       "      <td>0</td>\n",
       "      <td>1000</td>\n",
       "      <td>0</td>\n",
       "      <td>0</td>\n",
       "    </tr>\n",
       "    <tr>\n",
       "      <th>1325350800</th>\n",
       "      <td>4.58</td>\n",
       "      <td>9.000000</td>\n",
       "      <td>0</td>\n",
       "      <td>1000</td>\n",
       "      <td>0</td>\n",
       "      <td>0</td>\n",
       "    </tr>\n",
       "    <tr>\n",
       "      <th>1325391360</th>\n",
       "      <td>4.58</td>\n",
       "      <td>1.502000</td>\n",
       "      <td>0</td>\n",
       "      <td>1000</td>\n",
       "      <td>0</td>\n",
       "      <td>0</td>\n",
       "    </tr>\n",
       "  </tbody>\n",
       "</table>\n",
       "</div>"
      ],
      "text/plain": [
       "            Close  Volume_(BTC)  btc_bal  usd_bal  portfolio_bal  \\\n",
       "Timestamp                                                          \n",
       "1325317920   4.39      0.455581        0     1000              0   \n",
       "1325346600   4.39     48.000000        0     1000              0   \n",
       "1325350740   4.57     37.862297        0     1000              0   \n",
       "1325350800   4.58      9.000000        0     1000              0   \n",
       "1325391360   4.58      1.502000        0     1000              0   \n",
       "\n",
       "            total_rewards  \n",
       "Timestamp                  \n",
       "1325317920              0  \n",
       "1325346600              0  \n",
       "1325350740              0  \n",
       "1325350800              0  \n",
       "1325391360              0  "
      ]
     },
     "execution_count": 6,
     "metadata": {},
     "output_type": "execute_result"
    }
   ],
   "source": [
    "df['btc_bal'] = 0\n",
    "df['usd_bal'] = initial_bal\n",
    "df['portfolio_bal'] = 0\n",
    "df['total_rewards'] = 0\n",
    "print (df.shape)\n",
    "df.head()"
   ]
  },
  {
   "cell_type": "code",
   "execution_count": 7,
   "metadata": {
    "collapsed": true
   },
   "outputs": [],
   "source": [
    "def get_state(data_frame, step, window_size=60):\n",
    "    return data_frame[step:step + window_size]"
   ]
  },
  {
   "cell_type": "code",
   "execution_count": 18,
   "metadata": {
    "collapsed": true
   },
   "outputs": [],
   "source": [
    "def loss(previous_state_value, current_state_value):\n",
    "    loss = -1 * (current_state_value - previous_state_value) / (current_state_value + previous_state_value)\n",
    "    return loss"
   ]
  },
  {
   "cell_type": "code",
   "execution_count": 9,
   "metadata": {
    "collapsed": true
   },
   "outputs": [],
   "source": [
    "# model's hyperparameters\n",
    "window_size = 60\n",
    "nb_filter = 10\n",
    "filter_length = 10\n",
    "nb_input_series = 5\n",
    "nb_outputs = 2\n",
    "epochs = 1\n",
    "batch_size = 1"
   ]
  },
  {
   "cell_type": "code",
   "execution_count": 10,
   "metadata": {
    "collapsed": true
   },
   "outputs": [],
   "source": [
    "def env (sate, actions, fee): \t# if actions is a 2x1 matrix, lets say index 0 is buy signal and index 1 is sell signal \n",
    "\n",
    "    action = actions[0] + actions[1]\t# with probability of their value. \n",
    "    \n",
    "    if action * state[3] > fee * state[0]: # current_state[0] is the price st the time\n",
    "        state[2] = state[2] + (action * state[3] / state[0]  - fee) # let's say idx 2 of current_state is btc_balance,\n",
    "        state[3] = state[3] - action * state[3] - fee * state[0]\n",
    "        state[4] = state[3] + state[2] * state[0]\n",
    "        return state\n",
    "\n",
    "    elif (action * state[2] * -1) > fee:\n",
    "        state[2] = state[2] - (action * state[2])\n",
    "        state[3] = state[3] + (action * state[2] - fee * state[0])\n",
    "        state[4] = state[3] + state[2] * state[0]\n",
    "        return state\n",
    "    else:\n",
    "        return state"
   ]
  },
  {
   "cell_type": "code",
   "execution_count": 14,
   "metadata": {
    "collapsed": true
   },
   "outputs": [],
   "source": [
    "def build_convolution1D_model(window_size, filter_length, nb_input_series=1, nb_outputs=1, nb_filter=4):\n",
    "    model = Sequential((\n",
    "        Conv1D(filters=nb_filter, kernel_size=filter_length, activation='relu', input_shape=(window_size, nb_input_series)),\n",
    "        MaxPooling1D(), # Downsample the output of convolution by 2X.\n",
    "        Conv1D(filters=nb_filter, kernel_size=filter_length, activation='relu'),\n",
    "        MaxPooling1D(),\n",
    "        Flatten(),\n",
    "        Dense(nb_outputs, activation='linear'), # For binary classification, change the activation to 'sigmoid'\n",
    "        ))\n",
    "    model.compile(loss=loss, optimizer='adam', metrics=[loss]) # this part needs correction, instead of loss function the value of loss function should be passed, or maybe not, i need to double check this.\n",
    "    return model"
   ]
  },
  {
   "cell_type": "code",
   "execution_count": 19,
   "metadata": {},
   "outputs": [
    {
     "name": "stdout",
     "output_type": "stream",
     "text": [
      "\n",
      "\n",
      "Model with input size (None, 60, 5), output size (None, 2), 10 conv filters of length 10\n",
      "_________________________________________________________________\n",
      "Layer (type)                 Output Shape              Param #   \n",
      "=================================================================\n",
      "conv1d_5 (Conv1D)            (None, 51, 10)            510       \n",
      "_________________________________________________________________\n",
      "max_pooling1d_5 (MaxPooling1 (None, 25, 10)            0         \n",
      "_________________________________________________________________\n",
      "conv1d_6 (Conv1D)            (None, 16, 10)            1010      \n",
      "_________________________________________________________________\n",
      "max_pooling1d_6 (MaxPooling1 (None, 8, 10)             0         \n",
      "_________________________________________________________________\n",
      "flatten_3 (Flatten)          (None, 80)                0         \n",
      "_________________________________________________________________\n",
      "dense_3 (Dense)              (None, 2)                 162       \n",
      "=================================================================\n",
      "Total params: 1,682\n",
      "Trainable params: 1,682\n",
      "Non-trainable params: 0\n",
      "_________________________________________________________________\n"
     ]
    }
   ],
   "source": [
    "# build the model and print the summary of the model\n",
    "model = build_convolution1D_model(window_size=window_size, filter_length=filter_length, nb_input_series=nb_input_series, nb_outputs=nb_outputs, nb_filter=nb_filter)\n",
    "print('\\n\\nModel with input size {}, output size {}, {} conv filters of length {}'.format(model.input_shape, model.output_shape, nb_filter, filter_length))\n",
    "model.summary()"
   ]
  },
  {
   "cell_type": "code",
   "execution_count": null,
   "metadata": {
    "collapsed": true
   },
   "outputs": [],
   "source": []
  }
 ],
 "metadata": {
  "kernelspec": {
   "display_name": "Python 3",
   "language": "python",
   "name": "python3"
  },
  "language_info": {
   "codemirror_mode": {
    "name": "ipython",
    "version": 3
   },
   "file_extension": ".py",
   "mimetype": "text/x-python",
   "name": "python",
   "nbconvert_exporter": "python",
   "pygments_lexer": "ipython3",
   "version": "3.5.2"
  }
 },
 "nbformat": 4,
 "nbformat_minor": 2
}
