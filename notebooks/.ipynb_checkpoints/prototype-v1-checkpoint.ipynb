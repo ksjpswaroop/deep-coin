{
 "cells": [
  {
   "cell_type": "code",
   "execution_count": 26,
   "metadata": {},
   "outputs": [
    {
     "name": "stderr",
     "output_type": "stream",
     "text": [
      "Using TensorFlow backend.\n"
     ]
    }
   ],
   "source": [
    "import datetime as dt\n",
    "import matplotlib.pyplot as plt\n",
    "from matplotlib import style\n",
    "from matplotlib.finance import candlestick_ohlc\n",
    "import matplotlib.dates as mdates \n",
    "import pandas as pd\n",
    "import pandas_datareader.data as web\n",
    "import numpy as np\n",
    "import gc\n",
    "import math\n",
    "import keras\n",
    "\n",
    "from sklearn import preprocessing, cross_validation, svm\n",
    "from sklearn.linear_model import LinearRegression\n",
    "\n",
    "\n",
    "\n",
    "#%matplotlib notebook\n",
    "%matplotlib inline "
   ]
  },
  {
   "cell_type": "code",
   "execution_count": 2,
   "metadata": {
    "collapsed": true
   },
   "outputs": [],
   "source": [
    "style.use ('ggplot')\n",
    "\n",
    "data_file = '~/data/bitstampUSD_1-min_data_2012-01-01_to_2017-05-31.csv'"
   ]
  },
  {
   "cell_type": "code",
   "execution_count": 3,
   "metadata": {},
   "outputs": [
    {
     "data": {
      "text/html": [
       "<div>\n",
       "<style>\n",
       "    .dataframe thead tr:only-child th {\n",
       "        text-align: right;\n",
       "    }\n",
       "\n",
       "    .dataframe thead th {\n",
       "        text-align: left;\n",
       "    }\n",
       "\n",
       "    .dataframe tbody tr th {\n",
       "        vertical-align: top;\n",
       "    }\n",
       "</style>\n",
       "<table border=\"1\" class=\"dataframe\">\n",
       "  <thead>\n",
       "    <tr style=\"text-align: right;\">\n",
       "      <th></th>\n",
       "      <th>Open</th>\n",
       "      <th>High</th>\n",
       "      <th>Low</th>\n",
       "      <th>Close</th>\n",
       "      <th>Volume_(BTC)</th>\n",
       "      <th>Volume_(Currency)</th>\n",
       "      <th>Weighted_Price</th>\n",
       "    </tr>\n",
       "    <tr>\n",
       "      <th>Timestamp</th>\n",
       "      <th></th>\n",
       "      <th></th>\n",
       "      <th></th>\n",
       "      <th></th>\n",
       "      <th></th>\n",
       "      <th></th>\n",
       "      <th></th>\n",
       "    </tr>\n",
       "  </thead>\n",
       "  <tbody>\n",
       "    <tr>\n",
       "      <th>1325317920</th>\n",
       "      <td>4.39</td>\n",
       "      <td>4.39</td>\n",
       "      <td>4.39</td>\n",
       "      <td>4.39</td>\n",
       "      <td>0.455581</td>\n",
       "      <td>2.0</td>\n",
       "      <td>4.39</td>\n",
       "    </tr>\n",
       "    <tr>\n",
       "      <th>1325317980</th>\n",
       "      <td>NaN</td>\n",
       "      <td>NaN</td>\n",
       "      <td>NaN</td>\n",
       "      <td>NaN</td>\n",
       "      <td>NaN</td>\n",
       "      <td>NaN</td>\n",
       "      <td>NaN</td>\n",
       "    </tr>\n",
       "    <tr>\n",
       "      <th>1325318040</th>\n",
       "      <td>NaN</td>\n",
       "      <td>NaN</td>\n",
       "      <td>NaN</td>\n",
       "      <td>NaN</td>\n",
       "      <td>NaN</td>\n",
       "      <td>NaN</td>\n",
       "      <td>NaN</td>\n",
       "    </tr>\n",
       "    <tr>\n",
       "      <th>1325318100</th>\n",
       "      <td>NaN</td>\n",
       "      <td>NaN</td>\n",
       "      <td>NaN</td>\n",
       "      <td>NaN</td>\n",
       "      <td>NaN</td>\n",
       "      <td>NaN</td>\n",
       "      <td>NaN</td>\n",
       "    </tr>\n",
       "    <tr>\n",
       "      <th>1325318160</th>\n",
       "      <td>NaN</td>\n",
       "      <td>NaN</td>\n",
       "      <td>NaN</td>\n",
       "      <td>NaN</td>\n",
       "      <td>NaN</td>\n",
       "      <td>NaN</td>\n",
       "      <td>NaN</td>\n",
       "    </tr>\n",
       "  </tbody>\n",
       "</table>\n",
       "</div>"
      ],
      "text/plain": [
       "            Open  High   Low  Close  Volume_(BTC)  Volume_(Currency)  \\\n",
       "Timestamp                                                              \n",
       "1325317920  4.39  4.39  4.39   4.39      0.455581                2.0   \n",
       "1325317980   NaN   NaN   NaN    NaN           NaN                NaN   \n",
       "1325318040   NaN   NaN   NaN    NaN           NaN                NaN   \n",
       "1325318100   NaN   NaN   NaN    NaN           NaN                NaN   \n",
       "1325318160   NaN   NaN   NaN    NaN           NaN                NaN   \n",
       "\n",
       "            Weighted_Price  \n",
       "Timestamp                   \n",
       "1325317920            4.39  \n",
       "1325317980             NaN  \n",
       "1325318040             NaN  \n",
       "1325318100             NaN  \n",
       "1325318160             NaN  "
      ]
     },
     "execution_count": 3,
     "metadata": {},
     "output_type": "execute_result"
    }
   ],
   "source": [
    "df = pd.read_csv(data_file, parse_dates=True, keep_date_col=True, index_col=0, infer_datetime_format=True, error_bad_lines=False)\n",
    "df.head()"
   ]
  },
  {
   "cell_type": "code",
   "execution_count": 4,
   "metadata": {},
   "outputs": [
    {
     "data": {
      "text/html": [
       "<div>\n",
       "<style>\n",
       "    .dataframe thead tr:only-child th {\n",
       "        text-align: right;\n",
       "    }\n",
       "\n",
       "    .dataframe thead th {\n",
       "        text-align: left;\n",
       "    }\n",
       "\n",
       "    .dataframe tbody tr th {\n",
       "        vertical-align: top;\n",
       "    }\n",
       "</style>\n",
       "<table border=\"1\" class=\"dataframe\">\n",
       "  <thead>\n",
       "    <tr style=\"text-align: right;\">\n",
       "      <th></th>\n",
       "      <th>Open</th>\n",
       "      <th>High</th>\n",
       "      <th>Low</th>\n",
       "      <th>Close</th>\n",
       "      <th>Volume_(BTC)</th>\n",
       "      <th>Weighted_Price</th>\n",
       "    </tr>\n",
       "    <tr>\n",
       "      <th>Timestamp</th>\n",
       "      <th></th>\n",
       "      <th></th>\n",
       "      <th></th>\n",
       "      <th></th>\n",
       "      <th></th>\n",
       "      <th></th>\n",
       "    </tr>\n",
       "  </thead>\n",
       "  <tbody>\n",
       "    <tr>\n",
       "      <th>1325317920</th>\n",
       "      <td>4.39</td>\n",
       "      <td>4.39</td>\n",
       "      <td>4.39</td>\n",
       "      <td>4.39</td>\n",
       "      <td>0.455581</td>\n",
       "      <td>4.390000</td>\n",
       "    </tr>\n",
       "    <tr>\n",
       "      <th>1325346600</th>\n",
       "      <td>4.39</td>\n",
       "      <td>4.39</td>\n",
       "      <td>4.39</td>\n",
       "      <td>4.39</td>\n",
       "      <td>48.000000</td>\n",
       "      <td>4.390000</td>\n",
       "    </tr>\n",
       "    <tr>\n",
       "      <th>1325350740</th>\n",
       "      <td>4.50</td>\n",
       "      <td>4.57</td>\n",
       "      <td>4.50</td>\n",
       "      <td>4.57</td>\n",
       "      <td>37.862297</td>\n",
       "      <td>4.526411</td>\n",
       "    </tr>\n",
       "    <tr>\n",
       "      <th>1325350800</th>\n",
       "      <td>4.58</td>\n",
       "      <td>4.58</td>\n",
       "      <td>4.58</td>\n",
       "      <td>4.58</td>\n",
       "      <td>9.000000</td>\n",
       "      <td>4.580000</td>\n",
       "    </tr>\n",
       "    <tr>\n",
       "      <th>1325391360</th>\n",
       "      <td>4.58</td>\n",
       "      <td>4.58</td>\n",
       "      <td>4.58</td>\n",
       "      <td>4.58</td>\n",
       "      <td>1.502000</td>\n",
       "      <td>4.580000</td>\n",
       "    </tr>\n",
       "  </tbody>\n",
       "</table>\n",
       "</div>"
      ],
      "text/plain": [
       "            Open  High   Low  Close  Volume_(BTC)  Weighted_Price\n",
       "Timestamp                                                        \n",
       "1325317920  4.39  4.39  4.39   4.39      0.455581        4.390000\n",
       "1325346600  4.39  4.39  4.39   4.39     48.000000        4.390000\n",
       "1325350740  4.50  4.57  4.50   4.57     37.862297        4.526411\n",
       "1325350800  4.58  4.58  4.58   4.58      9.000000        4.580000\n",
       "1325391360  4.58  4.58  4.58   4.58      1.502000        4.580000"
      ]
     },
     "execution_count": 4,
     "metadata": {},
     "output_type": "execute_result"
    }
   ],
   "source": [
    "df = df.dropna()\n",
    "df = df.drop('Volume_(Currency)', axis=1)\n",
    "df.head()"
   ]
  },
  {
   "cell_type": "code",
   "execution_count": 5,
   "metadata": {},
   "outputs": [
    {
     "name": "stdout",
     "output_type": "stream",
     "text": [
      "1650904\n"
     ]
    }
   ],
   "source": [
    "print(len(df))"
   ]
  },
  {
   "cell_type": "code",
   "execution_count": 6,
   "metadata": {
    "collapsed": true
   },
   "outputs": [],
   "source": [
    "df['24ma'] = df['Close'].rolling(window=1440, min_periods=0).mean()"
   ]
  },
  {
   "cell_type": "code",
   "execution_count": 7,
   "metadata": {},
   "outputs": [
    {
     "data": {
      "text/html": [
       "<div>\n",
       "<style>\n",
       "    .dataframe thead tr:only-child th {\n",
       "        text-align: right;\n",
       "    }\n",
       "\n",
       "    .dataframe thead th {\n",
       "        text-align: left;\n",
       "    }\n",
       "\n",
       "    .dataframe tbody tr th {\n",
       "        vertical-align: top;\n",
       "    }\n",
       "</style>\n",
       "<table border=\"1\" class=\"dataframe\">\n",
       "  <thead>\n",
       "    <tr style=\"text-align: right;\">\n",
       "      <th></th>\n",
       "      <th>Open</th>\n",
       "      <th>High</th>\n",
       "      <th>Low</th>\n",
       "      <th>Close</th>\n",
       "      <th>Volume_(BTC)</th>\n",
       "      <th>Weighted_Price</th>\n",
       "      <th>24ma</th>\n",
       "    </tr>\n",
       "    <tr>\n",
       "      <th>Timestamp</th>\n",
       "      <th></th>\n",
       "      <th></th>\n",
       "      <th></th>\n",
       "      <th></th>\n",
       "      <th></th>\n",
       "      <th></th>\n",
       "      <th></th>\n",
       "    </tr>\n",
       "  </thead>\n",
       "  <tbody>\n",
       "    <tr>\n",
       "      <th>1496188560</th>\n",
       "      <td>2190.49</td>\n",
       "      <td>2190.49</td>\n",
       "      <td>2181.37</td>\n",
       "      <td>2181.37</td>\n",
       "      <td>1.700166</td>\n",
       "      <td>2190.247337</td>\n",
       "      <td>2273.979389</td>\n",
       "    </tr>\n",
       "    <tr>\n",
       "      <th>1496188620</th>\n",
       "      <td>2190.50</td>\n",
       "      <td>2197.52</td>\n",
       "      <td>2186.17</td>\n",
       "      <td>2195.63</td>\n",
       "      <td>6.561029</td>\n",
       "      <td>2195.206304</td>\n",
       "      <td>2273.914972</td>\n",
       "    </tr>\n",
       "    <tr>\n",
       "      <th>1496188680</th>\n",
       "      <td>2195.62</td>\n",
       "      <td>2197.52</td>\n",
       "      <td>2191.52</td>\n",
       "      <td>2191.83</td>\n",
       "      <td>15.662847</td>\n",
       "      <td>2193.791712</td>\n",
       "      <td>2273.863965</td>\n",
       "    </tr>\n",
       "    <tr>\n",
       "      <th>1496188740</th>\n",
       "      <td>2195.82</td>\n",
       "      <td>2216.00</td>\n",
       "      <td>2195.82</td>\n",
       "      <td>2203.51</td>\n",
       "      <td>27.090309</td>\n",
       "      <td>2211.620837</td>\n",
       "      <td>2273.815243</td>\n",
       "    </tr>\n",
       "    <tr>\n",
       "      <th>1496188800</th>\n",
       "      <td>2201.70</td>\n",
       "      <td>2209.81</td>\n",
       "      <td>2196.98</td>\n",
       "      <td>2208.33</td>\n",
       "      <td>9.961835</td>\n",
       "      <td>2205.648801</td>\n",
       "      <td>2273.768736</td>\n",
       "    </tr>\n",
       "  </tbody>\n",
       "</table>\n",
       "</div>"
      ],
      "text/plain": [
       "               Open     High      Low    Close  Volume_(BTC)  Weighted_Price  \\\n",
       "Timestamp                                                                      \n",
       "1496188560  2190.49  2190.49  2181.37  2181.37      1.700166     2190.247337   \n",
       "1496188620  2190.50  2197.52  2186.17  2195.63      6.561029     2195.206304   \n",
       "1496188680  2195.62  2197.52  2191.52  2191.83     15.662847     2193.791712   \n",
       "1496188740  2195.82  2216.00  2195.82  2203.51     27.090309     2211.620837   \n",
       "1496188800  2201.70  2209.81  2196.98  2208.33      9.961835     2205.648801   \n",
       "\n",
       "                   24ma  \n",
       "Timestamp                \n",
       "1496188560  2273.979389  \n",
       "1496188620  2273.914972  \n",
       "1496188680  2273.863965  \n",
       "1496188740  2273.815243  \n",
       "1496188800  2273.768736  "
      ]
     },
     "execution_count": 7,
     "metadata": {},
     "output_type": "execute_result"
    }
   ],
   "source": [
    "df.tail()"
   ]
  },
  {
   "cell_type": "code",
   "execution_count": 8,
   "metadata": {},
   "outputs": [
    {
     "data": {
      "text/plain": [
       "<matplotlib.axes._subplots.AxesSubplot at 0x7fa8eb69eba8>"
      ]
     },
     "execution_count": 8,
     "metadata": {},
     "output_type": "execute_result"
    },
    {
     "data": {
      "image/png": "[encoded data removed]",
      "text/plain": [
       "<matplotlib.figure.Figure at 0x7fa9301c2390>"
      ]
     },
     "metadata": {},
     "output_type": "display_data"
    }
   ],
   "source": [
    "df.plot()\n",
    "df['Close'].plot()\n",
    "df['24ma'].plot()"
   ]
  },
  {
   "cell_type": "code",
   "execution_count": 9,
   "metadata": {
    "scrolled": true
   },
   "outputs": [
    {
     "data": {
      "image/png": "[encoded data removed]",
      "text/plain": [
       "<matplotlib.figure.Figure at 0x7fa8ec4dc128>"
      ]
     },
     "metadata": {},
     "output_type": "display_data"
    }
   ],
   "source": [
    "ax1 = plt.subplot2grid((6, 1), (0, 0), rowspan=5, colspan=1)\n",
    "ax2 = plt.subplot2grid((6, 1), (5, 0), rowspan=1, colspan=1, sharex=ax1)\n",
    "\n",
    "ax1.plot(df.index, df['Close'])\n",
    "ax1.plot(df.index, df['24ma'])\n",
    "ax2.plot(df.index, df['Volume_(BTC)'])\n",
    "\n",
    "plt.show()"
   ]
  },
  {
   "cell_type": "code",
   "execution_count": 10,
   "metadata": {},
   "outputs": [
    {
     "data": {
      "text/html": [
       "<div>\n",
       "<style>\n",
       "    .dataframe thead tr:only-child th {\n",
       "        text-align: right;\n",
       "    }\n",
       "\n",
       "    .dataframe thead th {\n",
       "        text-align: left;\n",
       "    }\n",
       "\n",
       "    .dataframe tbody tr th {\n",
       "        vertical-align: top;\n",
       "    }\n",
       "</style>\n",
       "<table border=\"1\" class=\"dataframe\">\n",
       "  <thead>\n",
       "    <tr style=\"text-align: right;\">\n",
       "      <th></th>\n",
       "      <th>Open</th>\n",
       "      <th>High</th>\n",
       "      <th>Low</th>\n",
       "      <th>Close</th>\n",
       "      <th>Volume_(BTC)</th>\n",
       "      <th>Weighted_Price</th>\n",
       "      <th>24ma</th>\n",
       "    </tr>\n",
       "    <tr>\n",
       "      <th>Timestamp</th>\n",
       "      <th></th>\n",
       "      <th></th>\n",
       "      <th></th>\n",
       "      <th></th>\n",
       "      <th></th>\n",
       "      <th></th>\n",
       "      <th></th>\n",
       "    </tr>\n",
       "  </thead>\n",
       "  <tbody>\n",
       "    <tr>\n",
       "      <th>2011-12-31 07:52:00+00:00</th>\n",
       "      <td>4.39</td>\n",
       "      <td>4.39</td>\n",
       "      <td>4.39</td>\n",
       "      <td>4.39</td>\n",
       "      <td>0.455581</td>\n",
       "      <td>4.390000</td>\n",
       "      <td>4.3900</td>\n",
       "    </tr>\n",
       "    <tr>\n",
       "      <th>2011-12-31 15:50:00+00:00</th>\n",
       "      <td>4.39</td>\n",
       "      <td>4.39</td>\n",
       "      <td>4.39</td>\n",
       "      <td>4.39</td>\n",
       "      <td>48.000000</td>\n",
       "      <td>4.390000</td>\n",
       "      <td>4.3900</td>\n",
       "    </tr>\n",
       "    <tr>\n",
       "      <th>2011-12-31 16:59:00+00:00</th>\n",
       "      <td>4.50</td>\n",
       "      <td>4.57</td>\n",
       "      <td>4.50</td>\n",
       "      <td>4.57</td>\n",
       "      <td>37.862297</td>\n",
       "      <td>4.526411</td>\n",
       "      <td>4.4500</td>\n",
       "    </tr>\n",
       "    <tr>\n",
       "      <th>2011-12-31 17:00:00+00:00</th>\n",
       "      <td>4.58</td>\n",
       "      <td>4.58</td>\n",
       "      <td>4.58</td>\n",
       "      <td>4.58</td>\n",
       "      <td>9.000000</td>\n",
       "      <td>4.580000</td>\n",
       "      <td>4.4825</td>\n",
       "    </tr>\n",
       "    <tr>\n",
       "      <th>2012-01-01 04:16:00+00:00</th>\n",
       "      <td>4.58</td>\n",
       "      <td>4.58</td>\n",
       "      <td>4.58</td>\n",
       "      <td>4.58</td>\n",
       "      <td>1.502000</td>\n",
       "      <td>4.580000</td>\n",
       "      <td>4.5020</td>\n",
       "    </tr>\n",
       "  </tbody>\n",
       "</table>\n",
       "</div>"
      ],
      "text/plain": [
       "                           Open  High   Low  Close  Volume_(BTC)  \\\n",
       "Timestamp                                                          \n",
       "2011-12-31 07:52:00+00:00  4.39  4.39  4.39   4.39      0.455581   \n",
       "2011-12-31 15:50:00+00:00  4.39  4.39  4.39   4.39     48.000000   \n",
       "2011-12-31 16:59:00+00:00  4.50  4.57  4.50   4.57     37.862297   \n",
       "2011-12-31 17:00:00+00:00  4.58  4.58  4.58   4.58      9.000000   \n",
       "2012-01-01 04:16:00+00:00  4.58  4.58  4.58   4.58      1.502000   \n",
       "\n",
       "                           Weighted_Price    24ma  \n",
       "Timestamp                                          \n",
       "2011-12-31 07:52:00+00:00        4.390000  4.3900  \n",
       "2011-12-31 15:50:00+00:00        4.390000  4.3900  \n",
       "2011-12-31 16:59:00+00:00        4.526411  4.4500  \n",
       "2011-12-31 17:00:00+00:00        4.580000  4.4825  \n",
       "2012-01-01 04:16:00+00:00        4.580000  4.5020  "
      ]
     },
     "execution_count": 10,
     "metadata": {},
     "output_type": "execute_result"
    }
   ],
   "source": [
    "df.index = pd.to_datetime(df.index, utc=True, unit='s')\n",
    "df.head()"
   ]
  },
  {
   "cell_type": "code",
   "execution_count": 11,
   "metadata": {},
   "outputs": [
    {
     "name": "stdout",
     "output_type": "stream",
     "text": [
      "43938 43938\n"
     ]
    }
   ],
   "source": [
    "df_1h_ohlc = df['Close'].resample('60Min').ohlc()\n",
    "df_1h_volume = df['Volume_(BTC)'].resample('60Min').sum()\n",
    "\n",
    "df_1h_ohlc.dropna(inplace=True)\n",
    "df_1h_volume.dropna(inplace=True)\n",
    "print(len(df_1h_ohlc), len(df_1h_volume))"
   ]
  },
  {
   "cell_type": "code",
   "execution_count": null,
   "metadata": {
    "collapsed": true
   },
   "outputs": [],
   "source": []
  },
  {
   "cell_type": "code",
   "execution_count": 12,
   "metadata": {},
   "outputs": [
    {
     "name": "stdout",
     "output_type": "stream",
     "text": [
      "239703 239703\n"
     ]
    }
   ],
   "source": [
    "df_10min_ohlc = df['Close'].resample('10Min').ohlc()\n",
    "df_10min_volume = df['Volume_(BTC)'].resample('10Min').sum()\n",
    "\n",
    "df_10min_ohlc.dropna(inplace=True)\n",
    "df_10min_volume.dropna(inplace=True)\n",
    "print(len(df_10min_ohlc), len(df_10min_volume))"
   ]
  },
  {
   "cell_type": "code",
   "execution_count": 13,
   "metadata": {},
   "outputs": [
    {
     "name": "stdout",
     "output_type": "stream",
     "text": [
      "1976 1976\n"
     ]
    }
   ],
   "source": [
    "df_1d_ohlc = df['Close'].resample('1D').ohlc()\n",
    "df_1d_volume = df['Volume_(BTC)'].resample('1D').sum()\n",
    "\n",
    "df_1d_ohlc.dropna(inplace=True)\n",
    "df_1d_volume.dropna(inplace=True)\n",
    "print(len(df_1d_ohlc), len(df_1d_volume))"
   ]
  },
  {
   "cell_type": "code",
   "execution_count": 14,
   "metadata": {},
   "outputs": [
    {
     "data": {
      "text/plain": [
       "<matplotlib.axes._subplots.AxesSubplot at 0x7fa8f15adc50>"
      ]
     },
     "execution_count": 14,
     "metadata": {},
     "output_type": "execute_result"
    },
    {
     "data": {
      "image/png": "[encoded data removed]",
      "text/plain": [
       "<matplotlib.figure.Figure at 0x7fa8ec4dc978>"
      ]
     },
     "metadata": {},
     "output_type": "display_data"
    },
    {
     "data": {
      "image/png": "[encoded data removed]",
      "text/plain": [
       "<matplotlib.figure.Figure at 0x7fa8ef9e32b0>"
      ]
     },
     "metadata": {},
     "output_type": "display_data"
    }
   ],
   "source": [
    "df_1d_volume.plot()\n",
    "df_1d_ohlc.plot()"
   ]
  },
  {
   "cell_type": "code",
   "execution_count": 15,
   "metadata": {},
   "outputs": [
    {
     "data": {
      "text/html": [
       "<div>\n",
       "<style>\n",
       "    .dataframe thead tr:only-child th {\n",
       "        text-align: right;\n",
       "    }\n",
       "\n",
       "    .dataframe thead th {\n",
       "        text-align: left;\n",
       "    }\n",
       "\n",
       "    .dataframe tbody tr th {\n",
       "        vertical-align: top;\n",
       "    }\n",
       "</style>\n",
       "<table border=\"1\" class=\"dataframe\">\n",
       "  <thead>\n",
       "    <tr style=\"text-align: right;\">\n",
       "      <th></th>\n",
       "      <th>open</th>\n",
       "      <th>high</th>\n",
       "      <th>low</th>\n",
       "      <th>close</th>\n",
       "    </tr>\n",
       "    <tr>\n",
       "      <th>Timestamp</th>\n",
       "      <th></th>\n",
       "      <th></th>\n",
       "      <th></th>\n",
       "      <th></th>\n",
       "    </tr>\n",
       "  </thead>\n",
       "  <tbody>\n",
       "    <tr>\n",
       "      <th>2011-12-31 07:50:00+00:00</th>\n",
       "      <td>4.39</td>\n",
       "      <td>4.39</td>\n",
       "      <td>4.39</td>\n",
       "      <td>4.39</td>\n",
       "    </tr>\n",
       "    <tr>\n",
       "      <th>2011-12-31 15:50:00+00:00</th>\n",
       "      <td>4.39</td>\n",
       "      <td>4.39</td>\n",
       "      <td>4.39</td>\n",
       "      <td>4.39</td>\n",
       "    </tr>\n",
       "    <tr>\n",
       "      <th>2011-12-31 16:50:00+00:00</th>\n",
       "      <td>4.57</td>\n",
       "      <td>4.57</td>\n",
       "      <td>4.57</td>\n",
       "      <td>4.57</td>\n",
       "    </tr>\n",
       "    <tr>\n",
       "      <th>2011-12-31 17:00:00+00:00</th>\n",
       "      <td>4.58</td>\n",
       "      <td>4.58</td>\n",
       "      <td>4.58</td>\n",
       "      <td>4.58</td>\n",
       "    </tr>\n",
       "    <tr>\n",
       "      <th>2012-01-01 04:10:00+00:00</th>\n",
       "      <td>4.58</td>\n",
       "      <td>4.58</td>\n",
       "      <td>4.58</td>\n",
       "      <td>4.58</td>\n",
       "    </tr>\n",
       "  </tbody>\n",
       "</table>\n",
       "</div>"
      ],
      "text/plain": [
       "                           open  high   low  close\n",
       "Timestamp                                         \n",
       "2011-12-31 07:50:00+00:00  4.39  4.39  4.39   4.39\n",
       "2011-12-31 15:50:00+00:00  4.39  4.39  4.39   4.39\n",
       "2011-12-31 16:50:00+00:00  4.57  4.57  4.57   4.57\n",
       "2011-12-31 17:00:00+00:00  4.58  4.58  4.58   4.58\n",
       "2012-01-01 04:10:00+00:00  4.58  4.58  4.58   4.58"
      ]
     },
     "execution_count": 15,
     "metadata": {},
     "output_type": "execute_result"
    }
   ],
   "source": [
    "df_10min_ohlc.head()"
   ]
  },
  {
   "cell_type": "code",
   "execution_count": 16,
   "metadata": {},
   "outputs": [
    {
     "name": "stdout",
     "output_type": "stream",
     "text": [
      "239703\n"
     ]
    },
    {
     "data": {
      "text/html": [
       "<div>\n",
       "<style>\n",
       "    .dataframe thead tr:only-child th {\n",
       "        text-align: right;\n",
       "    }\n",
       "\n",
       "    .dataframe thead th {\n",
       "        text-align: left;\n",
       "    }\n",
       "\n",
       "    .dataframe tbody tr th {\n",
       "        vertical-align: top;\n",
       "    }\n",
       "</style>\n",
       "<table border=\"1\" class=\"dataframe\">\n",
       "  <thead>\n",
       "    <tr style=\"text-align: right;\">\n",
       "      <th></th>\n",
       "      <th>open</th>\n",
       "      <th>high</th>\n",
       "      <th>low</th>\n",
       "      <th>close</th>\n",
       "      <th>volume</th>\n",
       "      <th>HL_PCT</th>\n",
       "      <th>Change_PCT</th>\n",
       "    </tr>\n",
       "    <tr>\n",
       "      <th>Timestamp</th>\n",
       "      <th></th>\n",
       "      <th></th>\n",
       "      <th></th>\n",
       "      <th></th>\n",
       "      <th></th>\n",
       "      <th></th>\n",
       "      <th></th>\n",
       "    </tr>\n",
       "  </thead>\n",
       "  <tbody>\n",
       "    <tr>\n",
       "      <th>2011-12-31 07:50:00+00:00</th>\n",
       "      <td>4.39</td>\n",
       "      <td>4.39</td>\n",
       "      <td>4.39</td>\n",
       "      <td>4.39</td>\n",
       "      <td>0.455581</td>\n",
       "      <td>0.0</td>\n",
       "      <td>0.0</td>\n",
       "    </tr>\n",
       "    <tr>\n",
       "      <th>2011-12-31 15:50:00+00:00</th>\n",
       "      <td>4.39</td>\n",
       "      <td>4.39</td>\n",
       "      <td>4.39</td>\n",
       "      <td>4.39</td>\n",
       "      <td>48.000000</td>\n",
       "      <td>0.0</td>\n",
       "      <td>0.0</td>\n",
       "    </tr>\n",
       "    <tr>\n",
       "      <th>2011-12-31 16:50:00+00:00</th>\n",
       "      <td>4.57</td>\n",
       "      <td>4.57</td>\n",
       "      <td>4.57</td>\n",
       "      <td>4.57</td>\n",
       "      <td>37.862297</td>\n",
       "      <td>0.0</td>\n",
       "      <td>0.0</td>\n",
       "    </tr>\n",
       "    <tr>\n",
       "      <th>2011-12-31 17:00:00+00:00</th>\n",
       "      <td>4.58</td>\n",
       "      <td>4.58</td>\n",
       "      <td>4.58</td>\n",
       "      <td>4.58</td>\n",
       "      <td>9.000000</td>\n",
       "      <td>0.0</td>\n",
       "      <td>0.0</td>\n",
       "    </tr>\n",
       "    <tr>\n",
       "      <th>2012-01-01 04:10:00+00:00</th>\n",
       "      <td>4.58</td>\n",
       "      <td>4.58</td>\n",
       "      <td>4.58</td>\n",
       "      <td>4.58</td>\n",
       "      <td>1.502000</td>\n",
       "      <td>0.0</td>\n",
       "      <td>0.0</td>\n",
       "    </tr>\n",
       "  </tbody>\n",
       "</table>\n",
       "</div>"
      ],
      "text/plain": [
       "                           open  high   low  close     volume  HL_PCT  \\\n",
       "Timestamp                                                               \n",
       "2011-12-31 07:50:00+00:00  4.39  4.39  4.39   4.39   0.455581     0.0   \n",
       "2011-12-31 15:50:00+00:00  4.39  4.39  4.39   4.39  48.000000     0.0   \n",
       "2011-12-31 16:50:00+00:00  4.57  4.57  4.57   4.57  37.862297     0.0   \n",
       "2011-12-31 17:00:00+00:00  4.58  4.58  4.58   4.58   9.000000     0.0   \n",
       "2012-01-01 04:10:00+00:00  4.58  4.58  4.58   4.58   1.502000     0.0   \n",
       "\n",
       "                           Change_PCT  \n",
       "Timestamp                              \n",
       "2011-12-31 07:50:00+00:00         0.0  \n",
       "2011-12-31 15:50:00+00:00         0.0  \n",
       "2011-12-31 16:50:00+00:00         0.0  \n",
       "2011-12-31 17:00:00+00:00         0.0  \n",
       "2012-01-01 04:10:00+00:00         0.0  "
      ]
     },
     "execution_count": 16,
     "metadata": {},
     "output_type": "execute_result"
    }
   ],
   "source": [
    "df_pct = df_10min_ohlc\n",
    "df_pct['volume'] = df_10min_volume\n",
    "df_pct['HL_PCT'] = (df_10min_ohlc['high']-df_10min_ohlc['low'])/df_10min_ohlc['low']*100\n",
    "df_pct['Change_PCT'] = (df_10min_ohlc['open']-df_10min_ohlc['close'])/df_10min_ohlc['close']*100\n",
    "\n",
    "print(len(df_pct))\n",
    "df_pct.head()"
   ]
  },
  {
   "cell_type": "code",
   "execution_count": 17,
   "metadata": {},
   "outputs": [
    {
     "data": {
      "text/html": [
       "<div>\n",
       "<style>\n",
       "    .dataframe thead tr:only-child th {\n",
       "        text-align: right;\n",
       "    }\n",
       "\n",
       "    .dataframe thead th {\n",
       "        text-align: left;\n",
       "    }\n",
       "\n",
       "    .dataframe tbody tr th {\n",
       "        vertical-align: top;\n",
       "    }\n",
       "</style>\n",
       "<table border=\"1\" class=\"dataframe\">\n",
       "  <thead>\n",
       "    <tr style=\"text-align: right;\">\n",
       "      <th></th>\n",
       "      <th>Open</th>\n",
       "      <th>High</th>\n",
       "      <th>Low</th>\n",
       "      <th>Close</th>\n",
       "      <th>Volume_(BTC)</th>\n",
       "      <th>Weighted_Price</th>\n",
       "      <th>24ma</th>\n",
       "    </tr>\n",
       "    <tr>\n",
       "      <th>Timestamp</th>\n",
       "      <th></th>\n",
       "      <th></th>\n",
       "      <th></th>\n",
       "      <th></th>\n",
       "      <th></th>\n",
       "      <th></th>\n",
       "      <th></th>\n",
       "    </tr>\n",
       "  </thead>\n",
       "  <tbody>\n",
       "    <tr>\n",
       "      <th>2017-05-30 23:56:00+00:00</th>\n",
       "      <td>2190.49</td>\n",
       "      <td>2190.49</td>\n",
       "      <td>2181.37</td>\n",
       "      <td>2181.37</td>\n",
       "      <td>1.700166</td>\n",
       "      <td>2190.247337</td>\n",
       "      <td>2273.979389</td>\n",
       "    </tr>\n",
       "    <tr>\n",
       "      <th>2017-05-30 23:57:00+00:00</th>\n",
       "      <td>2190.50</td>\n",
       "      <td>2197.52</td>\n",
       "      <td>2186.17</td>\n",
       "      <td>2195.63</td>\n",
       "      <td>6.561029</td>\n",
       "      <td>2195.206304</td>\n",
       "      <td>2273.914972</td>\n",
       "    </tr>\n",
       "    <tr>\n",
       "      <th>2017-05-30 23:58:00+00:00</th>\n",
       "      <td>2195.62</td>\n",
       "      <td>2197.52</td>\n",
       "      <td>2191.52</td>\n",
       "      <td>2191.83</td>\n",
       "      <td>15.662847</td>\n",
       "      <td>2193.791712</td>\n",
       "      <td>2273.863965</td>\n",
       "    </tr>\n",
       "    <tr>\n",
       "      <th>2017-05-30 23:59:00+00:00</th>\n",
       "      <td>2195.82</td>\n",
       "      <td>2216.00</td>\n",
       "      <td>2195.82</td>\n",
       "      <td>2203.51</td>\n",
       "      <td>27.090309</td>\n",
       "      <td>2211.620837</td>\n",
       "      <td>2273.815243</td>\n",
       "    </tr>\n",
       "    <tr>\n",
       "      <th>2017-05-31 00:00:00+00:00</th>\n",
       "      <td>2201.70</td>\n",
       "      <td>2209.81</td>\n",
       "      <td>2196.98</td>\n",
       "      <td>2208.33</td>\n",
       "      <td>9.961835</td>\n",
       "      <td>2205.648801</td>\n",
       "      <td>2273.768736</td>\n",
       "    </tr>\n",
       "  </tbody>\n",
       "</table>\n",
       "</div>"
      ],
      "text/plain": [
       "                              Open     High      Low    Close  Volume_(BTC)  \\\n",
       "Timestamp                                                                     \n",
       "2017-05-30 23:56:00+00:00  2190.49  2190.49  2181.37  2181.37      1.700166   \n",
       "2017-05-30 23:57:00+00:00  2190.50  2197.52  2186.17  2195.63      6.561029   \n",
       "2017-05-30 23:58:00+00:00  2195.62  2197.52  2191.52  2191.83     15.662847   \n",
       "2017-05-30 23:59:00+00:00  2195.82  2216.00  2195.82  2203.51     27.090309   \n",
       "2017-05-31 00:00:00+00:00  2201.70  2209.81  2196.98  2208.33      9.961835   \n",
       "\n",
       "                           Weighted_Price         24ma  \n",
       "Timestamp                                               \n",
       "2017-05-30 23:56:00+00:00     2190.247337  2273.979389  \n",
       "2017-05-30 23:57:00+00:00     2195.206304  2273.914972  \n",
       "2017-05-30 23:58:00+00:00     2193.791712  2273.863965  \n",
       "2017-05-30 23:59:00+00:00     2211.620837  2273.815243  \n",
       "2017-05-31 00:00:00+00:00     2205.648801  2273.768736  "
      ]
     },
     "execution_count": 17,
     "metadata": {},
     "output_type": "execute_result"
    }
   ],
   "source": [
    "df.tail()"
   ]
  },
  {
   "cell_type": "code",
   "execution_count": 18,
   "metadata": {},
   "outputs": [
    {
     "data": {
      "text/plain": [
       "6509"
      ]
     },
     "execution_count": 18,
     "metadata": {},
     "output_type": "execute_result"
    }
   ],
   "source": [
    "gc.collect()"
   ]
  },
  {
   "cell_type": "code",
   "execution_count": 19,
   "metadata": {
    "collapsed": true
   },
   "outputs": [],
   "source": [
    "forecast_col = 'close'\n",
    "forecast_out = int(math.ceil(0.0002*len(df_pct)))\n",
    "\n",
    "df_pct['label'] = df_pct[forecast_col].shift(-forecast_out)\n",
    "\n",
    "df_pct.dropna(inplace=True)"
   ]
  },
  {
   "cell_type": "code",
   "execution_count": 20,
   "metadata": {},
   "outputs": [
    {
     "name": "stdout",
     "output_type": "stream",
     "text": [
      "48\n"
     ]
    }
   ],
   "source": [
    "print(forecast_out)"
   ]
  },
  {
   "cell_type": "code",
   "execution_count": 33,
   "metadata": {},
   "outputs": [
    {
     "name": "stdout",
     "output_type": "stream",
     "text": [
      "0.9978775345\n",
      "48\n"
     ]
    }
   ],
   "source": [
    "x = np.array(df_pct.drop(['label'], 1))\n",
    "y = np.array(df_pct['label'])\n",
    "\n",
    "x = preprocessing.scale(x)\n",
    "\n",
    "x_train, x_test, y_train, y_test = cross_validation.train_test_split(x, y, test_size=0.2)\n",
    "\n",
    "clf = LinearRegression()\n",
    "clf.fit(x_train, y_train)\n",
    "accuracy = clf.score(x_test, y_test)\n",
    "\n",
    "print(accuracy)\n",
    "print(forecast_out)"
   ]
  },
  {
   "cell_type": "code",
   "execution_count": 32,
   "metadata": {},
   "outputs": [
    {
     "name": "stdout",
     "output_type": "stream",
     "text": [
      "191724 47931\n"
     ]
    }
   ],
   "source": [
    "print(len(x_train), len(x_test))"
   ]
  }
 ],
 "metadata": {
  "kernelspec": {
   "display_name": "Python 3",
   "language": "python",
   "name": "python3"
  },
  "language_info": {
   "codemirror_mode": {
    "name": "ipython",
    "version": 3
   },
   "file_extension": ".py",
   "mimetype": "text/x-python",
   "name": "python",
   "nbconvert_exporter": "python",
   "pygments_lexer": "ipython3",
   "version": "3.5.2"
  }
 },
 "nbformat": 4,
 "nbformat_minor": 2
}
