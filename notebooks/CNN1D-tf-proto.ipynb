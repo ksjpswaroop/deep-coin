{
 "cells": [
  {
   "cell_type": "code",
   "execution_count": 2,
   "metadata": {},
   "outputs": [],
   "source": [
    "import os, sys, gc\n",
    "import pandas as pd\n",
    "import numpy as np\n",
    "import matplotlib.pyplot as plt\n",
    "import tensorflow as tf\n",
    "from pandas import Series\n",
    "\n",
    "%matplotlib inline\n",
    "file_path = '/root/data/btc_data.pkl'"
   ]
  },
  {
   "cell_type": "code",
   "execution_count": 3,
   "metadata": {
    "collapsed": true
   },
   "outputs": [],
   "source": [
    "def load_data(path):\n",
    "    return pd.read_pickle(path)"
   ]
  },
  {
   "cell_type": "code",
   "execution_count": null,
   "metadata": {
    "collapsed": true
   },
   "outputs": [],
   "source": [
    "class environment():\n",
    "    \"\"\" environment includes producing new states, calculating reward and executing orders \"\"\"\n",
    "    \n",
    "    def __init__(self, data):\n",
    "        self.step = 0\n",
    "        self.window_size = 60\n",
    "        self.fee = 0.01\n",
    "        self.usd_balance = data[(step,7)] # this should be the usd_balance in the DatafRame\n",
    "        self.order = []\n",
    "        self.rate = data[(step, 2)]\n",
    "\n",
    "    def update_state(data):\n",
    "        state = data[step:step + window_size]\n",
    "        step += 1\n",
    "        return \tstate\n",
    "\n",
    "    def execute_order(order):\n",
    "\n",
    "        if order[0] != 0 && order[1] == 0: # buy order\n",
    "            order_amount = order[0] * usd_balance + order[0] * fee\n",
    "            usd_balance = usd_balance - order_amount \n",
    "            btc_balance = btc_balance + (order_amount * fee) - (fee * order_amount)\n",
    "            return usd_balance, btc_balance\n",
    "\n",
    "        elif order[0] != 0 && order[1] == 1: # sell order\n",
    "            order_amount = order[0] * btc_balance\n",
    "            btc_balance = btc_balance - order_amount - (fee * order_amount)\n",
    "            usd_balance = usd_balance +  "
   ]
  },
  {
   "cell_type": "code",
   "execution_count": 21,
   "metadata": {
    "collapsed": true
   },
   "outputs": [],
   "source": [
    "batch_size = 1\n",
    "num_input_series = 10\n",
    "window_size = 60\n",
    "filter_length = 10\n",
    "num_outputs = 2"
   ]
  },
  {
   "cell_type": "code",
   "execution_count": 9,
   "metadata": {},
   "outputs": [],
   "source": [
    "X_placeholder = tf.placeholder(tf.float32, [batch_size, window_size, num_input_series])"
   ]
  },
  {
   "cell_type": "code",
   "execution_count": 24,
   "metadata": {},
   "outputs": [],
   "source": [
    "l1_conv_W = tf.Variable(np.random.rand(1, window_size, num_input_series), dtype=tf.float32)\n",
    "l1_conv_b = tf.Variable(np.zeros((1, 60, 10)), dtype=tf.float32)\n",
    "l2_max_pool_W = tf.Variable(np.random.rand(1, 51, 10), dtype=tf.float32)\n",
    "\n",
    "l3_conv_W = tf.Variable(np.random.rand(1, 25, 10), dtype=tf.float32)\n",
    "l3_conv_b = tf.Variable(np.zeros((1, 25, 10)), dtype=tf.float32)\n",
    "l4_maxpool_W = tf.Variable(np.random.rand(1, 16, 10), dtype=tf.float32)\n",
    "\n",
    "l5_fl_W = tf.Variable(np.random.rand(1, 8, 10), dtype=tf.float32)\n",
    "l6_fc_W = tf.Variable(np.random.rand(1, 2), dtype=tf.float32)"
   ]
  },
  {
   "cell_type": "code",
   "execution_count": null,
   "metadata": {
    "collapsed": true
   },
   "outputs": [],
   "source": []
  }
 ],
 "metadata": {
  "kernelspec": {
   "display_name": "Python 3",
   "language": "python",
   "name": "python3"
  },
  "language_info": {
   "codemirror_mode": {
    "name": "ipython",
    "version": 3
   },
   "file_extension": ".py",
   "mimetype": "text/x-python",
   "name": "python",
   "nbconvert_exporter": "python",
   "pygments_lexer": "ipython3",
   "version": "3.5.2"
  }
 },
 "nbformat": 4,
 "nbformat_minor": 2
}
