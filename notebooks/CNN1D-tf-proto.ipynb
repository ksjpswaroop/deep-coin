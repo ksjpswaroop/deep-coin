{
 "cells": [
  {
   "cell_type": "code",
   "execution_count": 1,
   "metadata": {},
   "outputs": [
    {
     "name": "stderr",
     "output_type": "stream",
     "text": [
      "Using TensorFlow backend.\n"
     ]
    }
   ],
   "source": [
    "import os, sys, gc\n",
    "import pandas as pd\n",
    "import numpy as np\n",
    "import matplotlib.pyplot as plt\n",
    "import tensorflow as tf\n",
    "from pandas import Series\n",
    "from keras.layers import Conv1D, Dense, MaxPooling1D, Flatten\n",
    "from keras.models import Sequential\n",
    "\n",
    "%matplotlib inline"
   ]
  },
  {
   "cell_type": "code",
   "execution_count": 2,
   "metadata": {},
   "outputs": [
    {
     "data": {
      "text/html": [
       "<div>\n",
       "<style>\n",
       "    .dataframe thead tr:only-child th {\n",
       "        text-align: right;\n",
       "    }\n",
       "\n",
       "    .dataframe thead th {\n",
       "        text-align: left;\n",
       "    }\n",
       "\n",
       "    .dataframe tbody tr th {\n",
       "        vertical-align: top;\n",
       "    }\n",
       "</style>\n",
       "<table border=\"1\" class=\"dataframe\">\n",
       "  <thead>\n",
       "    <tr style=\"text-align: right;\">\n",
       "      <th></th>\n",
       "      <th>Open</th>\n",
       "      <th>Close</th>\n",
       "      <th>Volume_(BTC)</th>\n",
       "      <th>Percentage_Change</th>\n",
       "      <th>Expected_Return</th>\n",
       "      <th>BTC_Balance</th>\n",
       "      <th>USD_Balance</th>\n",
       "      <th>Total_Balance</th>\n",
       "      <th>Return</th>\n",
       "      <th>total_rewards</th>\n",
       "    </tr>\n",
       "    <tr>\n",
       "      <th>Timestamp</th>\n",
       "      <th></th>\n",
       "      <th></th>\n",
       "      <th></th>\n",
       "      <th></th>\n",
       "      <th></th>\n",
       "      <th></th>\n",
       "      <th></th>\n",
       "      <th></th>\n",
       "      <th></th>\n",
       "      <th></th>\n",
       "    </tr>\n",
       "  </thead>\n",
       "  <tbody>\n",
       "    <tr>\n",
       "      <th>2017-05-30 23:56:00+00:00</th>\n",
       "      <td>2190.49</td>\n",
       "      <td>2181.37</td>\n",
       "      <td>1.700166</td>\n",
       "      <td>-0.000957</td>\n",
       "      <td>-9.12</td>\n",
       "      <td>0</td>\n",
       "      <td>0</td>\n",
       "      <td>0</td>\n",
       "      <td>0</td>\n",
       "      <td>0</td>\n",
       "    </tr>\n",
       "    <tr>\n",
       "      <th>2017-05-30 23:57:00+00:00</th>\n",
       "      <td>2190.50</td>\n",
       "      <td>2195.63</td>\n",
       "      <td>6.561029</td>\n",
       "      <td>0.006537</td>\n",
       "      <td>5.13</td>\n",
       "      <td>0</td>\n",
       "      <td>0</td>\n",
       "      <td>0</td>\n",
       "      <td>0</td>\n",
       "      <td>0</td>\n",
       "    </tr>\n",
       "    <tr>\n",
       "      <th>2017-05-30 23:58:00+00:00</th>\n",
       "      <td>2195.62</td>\n",
       "      <td>2191.83</td>\n",
       "      <td>15.662847</td>\n",
       "      <td>-0.001731</td>\n",
       "      <td>-3.79</td>\n",
       "      <td>0</td>\n",
       "      <td>0</td>\n",
       "      <td>0</td>\n",
       "      <td>0</td>\n",
       "      <td>0</td>\n",
       "    </tr>\n",
       "    <tr>\n",
       "      <th>2017-05-30 23:59:00+00:00</th>\n",
       "      <td>2195.82</td>\n",
       "      <td>2203.51</td>\n",
       "      <td>27.090309</td>\n",
       "      <td>0.005329</td>\n",
       "      <td>7.69</td>\n",
       "      <td>0</td>\n",
       "      <td>0</td>\n",
       "      <td>0</td>\n",
       "      <td>0</td>\n",
       "      <td>0</td>\n",
       "    </tr>\n",
       "    <tr>\n",
       "      <th>2017-05-31 00:00:00+00:00</th>\n",
       "      <td>2201.70</td>\n",
       "      <td>2208.33</td>\n",
       "      <td>9.961835</td>\n",
       "      <td>0.002187</td>\n",
       "      <td>6.63</td>\n",
       "      <td>0</td>\n",
       "      <td>0</td>\n",
       "      <td>0</td>\n",
       "      <td>0</td>\n",
       "      <td>0</td>\n",
       "    </tr>\n",
       "  </tbody>\n",
       "</table>\n",
       "</div>"
      ],
      "text/plain": [
       "                              Open    Close  Volume_(BTC)  Percentage_Change  \\\n",
       "Timestamp                                                                      \n",
       "2017-05-30 23:56:00+00:00  2190.49  2181.37      1.700166          -0.000957   \n",
       "2017-05-30 23:57:00+00:00  2190.50  2195.63      6.561029           0.006537   \n",
       "2017-05-30 23:58:00+00:00  2195.62  2191.83     15.662847          -0.001731   \n",
       "2017-05-30 23:59:00+00:00  2195.82  2203.51     27.090309           0.005329   \n",
       "2017-05-31 00:00:00+00:00  2201.70  2208.33      9.961835           0.002187   \n",
       "\n",
       "                           Expected_Return  BTC_Balance  USD_Balance  \\\n",
       "Timestamp                                                              \n",
       "2017-05-30 23:56:00+00:00            -9.12            0            0   \n",
       "2017-05-30 23:57:00+00:00             5.13            0            0   \n",
       "2017-05-30 23:58:00+00:00            -3.79            0            0   \n",
       "2017-05-30 23:59:00+00:00             7.69            0            0   \n",
       "2017-05-31 00:00:00+00:00             6.63            0            0   \n",
       "\n",
       "                           Total_Balance  Return  total_rewards  \n",
       "Timestamp                                                        \n",
       "2017-05-30 23:56:00+00:00              0       0              0  \n",
       "2017-05-30 23:57:00+00:00              0       0              0  \n",
       "2017-05-30 23:58:00+00:00              0       0              0  \n",
       "2017-05-30 23:59:00+00:00              0       0              0  \n",
       "2017-05-31 00:00:00+00:00              0       0              0  "
      ]
     },
     "execution_count": 2,
     "metadata": {},
     "output_type": "execute_result"
    }
   ],
   "source": [
    "file_path = '/root/data/btc_data.pkl'\n",
    "df = pd.read_pickle(file_path)\n",
    "df.tail()"
   ]
  },
  {
   "cell_type": "code",
   "execution_count": 3,
   "metadata": {
    "collapsed": true
   },
   "outputs": [],
   "source": [
    "initial_bal = 1000\n",
    "num_steps = 1000000"
   ]
  },
  {
   "cell_type": "code",
   "execution_count": 4,
   "metadata": {
    "collapsed": true
   },
   "outputs": [],
   "source": [
    "# model's hyperparameters\n",
    "window_size = 60\n",
    "nb_filter = 10\n",
    "filter_length = 10\n",
    "nb_input_series = 10\n",
    "nb_outputs = 2\n",
    "epochs = 1\n",
    "batch_size = 1"
   ]
  },
  {
   "cell_type": "code",
   "execution_count": 5,
   "metadata": {
    "collapsed": true
   },
   "outputs": [],
   "source": [
    "def environment(sate, action, fee): \n",
    "\n",
    "    action = actions[0] + actions[1]\n",
    "    \n",
    "    if action * state[3] > fee * state[0]: \n",
    "        state[2] = state[2] + (action * state[3] / state[0]  - fee)\n",
    "        state[3] = state[3] - action * state[3] - fee * state[0]\n",
    "        state[4] = state[3] + state[2] * state[0]\n",
    "        return state\n",
    "\n",
    "    elif (action * state[2] * -1) > fee:\n",
    "        state[2] = state[2] - (action * state[2])\n",
    "        state[3] = state[3] + (action * state[2] - fee * state[0])\n",
    "        state[4] = state[3] + state[2] * state[0]\n",
    "        return state\n",
    "    else:\n",
    "        return state"
   ]
  },
  {
   "cell_type": "code",
   "execution_count": 11,
   "metadata": {
    "collapsed": true
   },
   "outputs": [],
   "source": [
    "def loss(previous_state_value, current_state_value):\n",
    "    loss = -1 * (current_state_value - previous_state_value) / (current_state_value + previous_state_value)\n",
    "    return loss"
   ]
  },
  {
   "cell_type": "code",
   "execution_count": 6,
   "metadata": {
    "collapsed": true
   },
   "outputs": [],
   "source": [
    "def build_convolution1D_model(window_size, filter_length, nb_input_series=1, nb_outputs=1, nb_filter=4):\n",
    "    model = Sequential((\n",
    "        Conv1D(filters=nb_filter, kernel_size=filter_length, activation='relu', input_shape=(window_size, nb_input_series)),\n",
    "        MaxPooling1D(), # Downsample the output of convolution by 2X.\n",
    "        Conv1D(filters=nb_filter, kernel_size=filter_length, activation='relu'),\n",
    "        MaxPooling1D(),\n",
    "        Flatten(),\n",
    "        Dense(nb_outputs, activation='linear'), # For binary classification, change the activation to 'sigmoid'\n",
    "        ))\n",
    "    model.compile(loss=loss, optimizer='adam', metrics=[loss]) # this part needs correction, instead of loss function the value of loss function should be passed, or maybe not, i need to double check this.\n",
    "    return model"
   ]
  },
  {
   "cell_type": "code",
   "execution_count": 7,
   "metadata": {},
   "outputs": [
    {
     "name": "stdout",
     "output_type": "stream",
     "text": [
      "(1, 60, 10)\n"
     ]
    }
   ],
   "source": [
    "step = 0\n",
    "Y_train = np.zeros((1, 2))\n",
    "X_train = df[step:step + window_size].as_matrix()\n",
    "X_train = np.reshape(X_train, (1, 60, 10))\n",
    "print (X_train.shape)"
   ]
  },
  {
   "cell_type": "code",
   "execution_count": 12,
   "metadata": {},
   "outputs": [
    {
     "name": "stdout",
     "output_type": "stream",
     "text": [
      "\n",
      "\n",
      "Model with input size (None, 60, 10), output size (None, 2), 10 conv filters of length 10\n",
      "_________________________________________________________________\n",
      "Layer (type)                 Output Shape              Param #   \n",
      "=================================================================\n",
      "conv1d_5 (Conv1D)            (None, 51, 10)            1010      \n",
      "_________________________________________________________________\n",
      "max_pooling1d_5 (MaxPooling1 (None, 25, 10)            0         \n",
      "_________________________________________________________________\n",
      "conv1d_6 (Conv1D)            (None, 16, 10)            1010      \n",
      "_________________________________________________________________\n",
      "max_pooling1d_6 (MaxPooling1 (None, 8, 10)             0         \n",
      "_________________________________________________________________\n",
      "flatten_3 (Flatten)          (None, 80)                0         \n",
      "_________________________________________________________________\n",
      "dense_3 (Dense)              (None, 2)                 162       \n",
      "=================================================================\n",
      "Total params: 2,182\n",
      "Trainable params: 2,182\n",
      "Non-trainable params: 0\n",
      "_________________________________________________________________\n"
     ]
    }
   ],
   "source": [
    "# build the model and print the summary of the model\n",
    "model = build_convolution1D_model(window_size=window_size, filter_length=filter_length, nb_input_series=nb_input_series, nb_outputs=nb_outputs, nb_filter=nb_filter)\n",
    "print('\\n\\nModel with input size {}, output size {}, {} conv filters of length {}'.format(model.input_shape, model.output_shape, nb_filter, filter_length))\n",
    "model.summary()"
   ]
  },
  {
   "cell_type": "code",
   "execution_count": 13,
   "metadata": {},
   "outputs": [
    {
     "name": "stdout",
     "output_type": "stream",
     "text": [
      "Epoch 1/1\n",
      "1s - loss_1: -1.0000e+00 - loss_2: -1.0000e+00\n"
     ]
    },
    {
     "data": {
      "text/plain": [
       "<keras.callbacks.History at 0x7f8cb72de7b8>"
      ]
     },
     "execution_count": 13,
     "metadata": {},
     "output_type": "execute_result"
    }
   ],
   "source": [
    "model.fit(x=X_train, y=Y_train, batch_size=60, epochs=1, verbose=2, validation_data=None, shuffle=False)"
   ]
  },
  {
   "cell_type": "markdown",
   "metadata": {
    "collapsed": true
   },
   "source": []
  }
 ],
 "metadata": {
  "kernelspec": {
   "display_name": "Python 3",
   "language": "python",
   "name": "python3"
  },
  "language_info": {
   "codemirror_mode": {
    "name": "ipython",
    "version": 3
   },
   "file_extension": ".py",
   "mimetype": "text/x-python",
   "name": "python",
   "nbconvert_exporter": "python",
   "pygments_lexer": "ipython3",
   "version": "3.5.2"
  }
 },
 "nbformat": 4,
 "nbformat_minor": 2
}
